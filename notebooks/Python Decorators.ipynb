{
 "cells": [
  {
   "cell_type": "markdown",
   "metadata": {},
   "source": [
    "# Python Decorators\n",
    "\n",
    "Repeated and reusable variations over declarations\n",
    "\n",
    "* authentication\n",
    "* debugging (arguments, inside,outside prints)\n",
    "* timing (how much time the program spends in function)\n",
    "* Log calls\n",
    "* ....\n"
   ]
  },
  {
   "cell_type": "code",
   "execution_count": 71,
   "metadata": {},
   "outputs": [],
   "source": [
    "# closure\n",
    "def multby(n):\n",
    "    def inner(k):\n",
    "        return n*k\n",
    "    return inner\n",
    "\n",
    "two = multby(2)\n",
    "three = multby(3)\n",
    "\n",
    "def counter():\n",
    "    def get():\n",
    "        nonlocal c\n",
    "        return c\n",
    "    def incr():\n",
    "        nonlocal c\n",
    "        c += 1\n",
    "    c = 0\n",
    "    return (get,incr)\n",
    "\n",
    "x,y = counter()\n",
    "p,r = counter()\n",
    "\n",
    "\n"
   ]
  },
  {
   "cell_type": "code",
   "execution_count": 72,
   "metadata": {},
   "outputs": [
    {
     "name": "stdout",
     "output_type": "stream",
     "text": [
      "2\n",
      "3\n"
     ]
    }
   ],
   "source": [
    "y()\n",
    "y()\n",
    "print(x())\n",
    "r()\n",
    "r()\n",
    "r()\n",
    "print(p())"
   ]
  },
  {
   "cell_type": "code",
   "execution_count": 67,
   "metadata": {},
   "outputs": [
    {
     "data": {
      "text/plain": [
       "12"
      ]
     },
     "execution_count": 67,
     "metadata": {},
     "output_type": "execute_result"
    }
   ],
   "source": [
    "three(4)"
   ]
  },
  {
   "cell_type": "code",
   "execution_count": 19,
   "metadata": {},
   "outputs": [],
   "source": [
    "def twice(func):\n",
    "    def calltwice():\n",
    "        func()\n",
    "        return func()\n",
    "    return calltwice\n",
    "    \n",
    "\n",
    "def f():\n",
    "    print('hello')\n",
    "    \n",
    "def g():\n",
    "    print('how are you')\n"
   ]
  },
  {
   "cell_type": "code",
   "execution_count": 20,
   "metadata": {},
   "outputs": [
    {
     "name": "stdout",
     "output_type": "stream",
     "text": [
      "hello\n",
      "hello\n",
      "how are you\n",
      "how are you\n",
      "hello\n",
      "hello\n"
     ]
    }
   ],
   "source": [
    "twicef = twice(f)\n",
    "twiceg = twice(g)\n",
    "twicef()\n",
    "twiceg()\n",
    "f = twice(f)\n",
    "f()"
   ]
  },
  {
   "cell_type": "code",
   "execution_count": 22,
   "metadata": {},
   "outputs": [
    {
     "name": "stdout",
     "output_type": "stream",
     "text": [
      "fine thanks\n",
      "fine thanks\n"
     ]
    }
   ],
   "source": [
    "@twice\n",
    "def h():\n",
    "    print(\"fine thanks\")\n",
    "    \n",
    "h()"
   ]
  },
  {
   "cell_type": "code",
   "execution_count": 77,
   "metadata": {},
   "outputs": [
    {
     "ename": "TypeError",
     "evalue": "repeat() missing 1 required positional argument: 'func'",
     "output_type": "error",
     "traceback": [
      "\u001b[0;31m---------------------------------------------------------------------------\u001b[0m",
      "\u001b[0;31mTypeError\u001b[0m                                 Traceback (most recent call last)",
      "\u001b[0;32m<ipython-input-77-bf46c508a714>\u001b[0m in \u001b[0;36m<module>\u001b[0;34m\u001b[0m\n\u001b[1;32m      5\u001b[0m     \u001b[0;32mreturn\u001b[0m \u001b[0minner\u001b[0m\u001b[0;34m\u001b[0m\u001b[0;34m\u001b[0m\u001b[0m\n\u001b[1;32m      6\u001b[0m \u001b[0;34m\u001b[0m\u001b[0m\n\u001b[0;32m----> 7\u001b[0;31m \u001b[0;34m@\u001b[0m\u001b[0mrepeat\u001b[0m\u001b[0;34m(\u001b[0m\u001b[0mnum\u001b[0m\u001b[0;34m=\u001b[0m\u001b[0;36m2\u001b[0m\u001b[0;34m)\u001b[0m\u001b[0;34m\u001b[0m\u001b[0;34m\u001b[0m\u001b[0m\n\u001b[0m\u001b[1;32m      8\u001b[0m \u001b[0;32mdef\u001b[0m \u001b[0mh\u001b[0m\u001b[0;34m(\u001b[0m\u001b[0;34m)\u001b[0m\u001b[0;34m:\u001b[0m\u001b[0;34m\u001b[0m\u001b[0;34m\u001b[0m\u001b[0m\n\u001b[1;32m      9\u001b[0m     \u001b[0mprint\u001b[0m\u001b[0;34m(\u001b[0m\u001b[0;34m\"hello\"\u001b[0m\u001b[0;34m)\u001b[0m\u001b[0;34m\u001b[0m\u001b[0;34m\u001b[0m\u001b[0m\n",
      "\u001b[0;31mTypeError\u001b[0m: repeat() missing 1 required positional argument: 'func'"
     ]
    }
   ],
   "source": [
    "def repeat(func,num=2):\n",
    "    def inner():\n",
    "        for i in range(num):\n",
    "            func()\n",
    "    return inner\n",
    "\n",
    "@repeat(num=2)\n",
    "def h():\n",
    "    print(\"hello\")\n",
    "    \n",
    "h()"
   ]
  },
  {
   "cell_type": "code",
   "execution_count": 28,
   "metadata": {},
   "outputs": [
    {
     "name": "stdout",
     "output_type": "stream",
     "text": [
      "inside 4 6\n",
      "outside\n",
      "inside onur\n",
      "hello onur\n",
      "outside\n"
     ]
    }
   ],
   "source": [
    "def printargs(func):\n",
    "    def inner(*args,**kwargs):\n",
    "        print(\"inside\", *args, **kwargs)\n",
    "        v = func(*args)\n",
    "        print(\"outside\")\n",
    "        return v\n",
    "    return inner\n",
    "\n",
    "@printargs\n",
    "def add(x,y):\n",
    "    return x+y\n",
    "\n",
    "@printargs\n",
    "def helloyou(name):\n",
    "    print(\"hello\",name)\n",
    "\n",
    "add(4,6)\n",
    "\n",
    "helloyou(\"onur\")"
   ]
  },
  {
   "cell_type": "code",
   "execution_count": 60,
   "metadata": {},
   "outputs": [],
   "source": [
    "import time\n",
    "\n",
    "def timed(func):\n",
    "    def inner(*args,**kw):\n",
    "        start = time.time()\n",
    "        ret = func(*args,**kw)\n",
    "        print(\"call toook {} seconds\".format(time.time()-start))\n",
    "        return ret\n",
    "    \n",
    "    return inner\n",
    "\n",
    "@timed\n",
    "def sumnested(lst):\n",
    "    sum = 0\n",
    "    \n",
    "    for i in lst:\n",
    "        for j in lst:\n",
    "            sum += i*j\n",
    "            \n",
    "    return sum\n",
    "\n",
    "@timed\n",
    "def fact(n):\n",
    "    if n < 1:\n",
    "        return 1\n",
    "    else:\n",
    "        return n*fact(n-1)\n"
   ]
  },
  {
   "cell_type": "code",
   "execution_count": 61,
   "metadata": {},
   "outputs": [
    {
     "name": "stdout",
     "output_type": "stream",
     "text": [
      "call toook 5.91959547996521 seconds\n",
      "call toook 7.152557373046875e-07 seconds\n",
      "call toook 0.0005519390106201172 seconds\n",
      "call toook 0.0006165504455566406 seconds\n",
      "call toook 0.0006411075592041016 seconds\n",
      "call toook 0.0006661415100097656 seconds\n"
     ]
    },
    {
     "data": {
      "text/plain": [
       "24"
      ]
     },
     "execution_count": 61,
     "metadata": {},
     "output_type": "execute_result"
    }
   ],
   "source": [
    "sumnested(range(1,10000))\n",
    "fact(4)"
   ]
  },
  {
   "cell_type": "code",
   "execution_count": 47,
   "metadata": {},
   "outputs": [
    {
     "name": "stdout",
     "output_type": "stream",
     "text": [
      "-> findstr ( ('aba', 'abracadabra') {} )\n",
      "  -> startswith ( ('aba', 'abracadabra') {} )\n",
      "  <- startswith returns  False\n",
      "  -> startswith ( ('aba', 'bracadabra') {} )\n",
      "  <- startswith returns  False\n",
      "  -> startswith ( ('aba', 'racadabra') {} )\n",
      "  <- startswith returns  False\n",
      "  -> startswith ( ('aba', 'acadabra') {} )\n",
      "  <- startswith returns  False\n",
      "  -> startswith ( ('aba', 'cadabra') {} )\n",
      "  <- startswith returns  False\n",
      "  -> startswith ( ('aba', 'adabra') {} )\n",
      "  <- startswith returns  False\n",
      "  -> startswith ( ('aba', 'dabra') {} )\n",
      "  <- startswith returns  False\n",
      "  -> startswith ( ('aba', 'abra') {} )\n",
      "  <- startswith returns  False\n",
      "  -> startswith ( ('aba', 'bra') {} )\n",
      "  <- startswith returns  False\n",
      "  -> startswith ( ('aba', 'ra') {} )\n",
      "  <- startswith returns  False\n",
      "  -> startswith ( ('aba', 'a') {} )\n",
      "  <- startswith returns  False\n",
      "<- findstr returns  -1\n",
      "-1\n"
     ]
    }
   ],
   "source": [
    "def tracedec(f):\n",
    "    def traced(*p, **kw):\n",
    "        print('  ' * tracedec.level + \"->\", f.__name__,'(',p, kw,')')\n",
    "        tracedec.level += 1\n",
    "        val = f(*p, **kw)\n",
    "        tracedec.level -= 1\n",
    "        print('  ' * tracedec.level + \"<-\", f.__name__, 'returns ', val)\n",
    "        return val\n",
    "    return traced\n",
    "tracedec.level = 0\n",
    "\n",
    "@tracedec\n",
    "def startswith(srcstr, tarstr):\n",
    "    '''check if tarstr starts with srcstr\n",
    "      like srcstr=\"abra\" tarstr=\"abracadabra\" '''\n",
    "    for i in range(len(srcstr)):    # check all characters of srcstr\n",
    "        if i >= len(tarstr):\n",
    "            return False\n",
    "        if srcstr[i] != tarstr[i]:  # if does not match, return False\n",
    "            return False\n",
    "    return True   # if False is not returned yet, it matches\n",
    "\n",
    "@tracedec\n",
    "def findstr(srcstr, tarstr):\n",
    "    '''Find position of srcstr in tarstr'''\n",
    "    for i in range(len(tarstr)):\n",
    "        # if scrstr is same as tarstr from i to rest\n",
    "        # return i\n",
    "        if startswith(srcstr, tarstr[i:]):\n",
    "                return i\n",
    "    return -1\n",
    "\n",
    "\n",
    "print(findstr(\"aba\", \"abracadabra\"))"
   ]
  },
  {
   "cell_type": "code",
   "execution_count": 63,
   "metadata": {},
   "outputs": [],
   "source": [
    "def countinstance(cls):\n",
    "    def f():\n",
    "        nonlocal count\n",
    "        count += 1\n",
    "        print(count, \"instances created from\",cls.__name__)\n",
    "        return cls()\n",
    "\n",
    "    count = 0\n",
    "    return f\n",
    "\n",
    "@countinstance\n",
    "class Counter:\n",
    "    def __init__(self):\n",
    "        self.count = 0\n",
    "    def incr(self):\n",
    "        self.count += 1\n",
    "    def get(self):\n",
    "        return self.count\n",
    "\n",
    "@countinstance\n",
    "class Counter2:\n",
    "    def __init__(self):\n",
    "        self.count = 0\n",
    "    def incr(self):\n",
    "        self.count += 1\n",
    "    def get(self):\n",
    "        return self.count"
   ]
  },
  {
   "cell_type": "code",
   "execution_count": 64,
   "metadata": {},
   "outputs": [
    {
     "name": "stdout",
     "output_type": "stream",
     "text": [
      "1 instances created from Counter\n",
      "1 instances created from Counter2\n"
     ]
    }
   ],
   "source": [
    "a = Counter()\n",
    "b = Counter2()"
   ]
  },
  {
   "cell_type": "code",
   "execution_count": null,
   "metadata": {},
   "outputs": [],
   "source": []
  }
 ],
 "metadata": {
  "kernelspec": {
   "display_name": "Python 3",
   "language": "python",
   "name": "python3"
  },
  "language_info": {
   "codemirror_mode": {
    "name": "ipython",
    "version": 3
   },
   "file_extension": ".py",
   "mimetype": "text/x-python",
   "name": "python",
   "nbconvert_exporter": "python",
   "pygments_lexer": "ipython3",
   "version": "3.8.10"
  }
 },
 "nbformat": 4,
 "nbformat_minor": 4
}
