{
 "cells": [
  {
   "cell_type": "markdown",
   "metadata": {},
   "source": [
    "# Search/replace in Regular expression\n",
    "\n",
    "* `re.sub(regex, replacement, inputstring)` replaces all occurences of regex into replacement in inputstring. If no match, original string is returned"
   ]
  },
  {
   "cell_type": "code",
   "execution_count": 3,
   "metadata": {},
   "outputs": [
    {
     "name": "stdout",
     "output_type": "stream",
     "text": [
      "onur:|tolga|,|sehit:ogl++\n",
      "onur tolga sehitoglu\n"
     ]
    }
   ],
   "source": [
    "import re\n",
    "print(re.sub(\" +\",\"|\",\"onur:      tolga ,    sehit:ogl++\"))\n",
    "print(re.sub(\"([:^.+;,/*-])\",\"\",\"onur: tolga, sehit++ogl/u\"))"
   ]
  },
  {
   "cell_type": "markdown",
   "metadata": {},
   "source": [
    "* Replacement may refer to the matched groups as group id `\\1, \\2, \\3`. \n",
    "* `\\g<1>` `\\g<2>`, ... can be used as well. `\\g<0>` is the whole matched string.\n",
    "* `\\g<groupname>` syntax substitues the named groups."
   ]
  },
  {
   "cell_type": "code",
   "execution_count": 5,
   "metadata": {},
   "outputs": [
    {
     "name": "stdout",
     "output_type": "stream",
     "text": [
      "tolga onur\n",
      "hello 'onur tolga', how are you\n",
      "tolga onur onurtolga\n",
      "sehitoglu, onur ()\n",
      "sehitoglu, onur \n"
     ]
    }
   ],
   "source": [
    "print(re.sub(\"^([A-Za-z]+) ([A-Za-z]+)$\",\"\\\\2 \\\\1\", \"onur tolga\"))\n",
    "print(re.sub(\"^([A-Za-z]+) ([A-Za-z]+)$\",\"hello '\\g<0>', how are you\", \n",
    "             \"onur tolga\"))\n",
    "print(re.sub(\"^(?P<name>[A-Za-z]+) (?P<sname>[A-Za-z]+)$\",\n",
    "             \"\\g<sname> \\g<name> \\g<name>\\g<sname>\", \"onur tolga\"))\n",
    "\n",
    "print(re.sub(\"^(?P<name>[a-z]+) (?P<mname>[a-z]+ )?(?P<sname>[a-z]+)$\",\n",
    "            \"\\g<sname>, \\g<name> (\\g<mname>)\",\n",
    "             \"onur tolga sehitoglu\"))\n",
    "print(re.sub(\"^(?P<name>[a-z]+) (?P<mname>[a-z]+ )?(?P<sname>[a-z]+)$\",\n",
    "            \"\\g<sname>, \\g<name> \\g<mname>\",\n",
    "             \"onur sehitoglu\"))"
   ]
  },
  {
   "cell_type": "markdown",
   "metadata": {},
   "source": [
    "* Substitution can be a function. In that case, match object will be sent to the function as parameter. String returned by the function is the result of the substitution."
   ]
  },
  {
   "cell_type": "code",
   "execution_count": 8,
   "metadata": {},
   "outputs": [
    {
     "name": "stdout",
     "output_type": "stream",
     "text": [
      "<re.Match object; span=(0, 20), match='onur tolga sehitoglu'>\n",
      "sehitoglu, o. t.\n"
     ]
    }
   ],
   "source": [
    "# function substitution\n",
    "def convert(m):\n",
    "    '''replace name middle surname as surname, n. m.'''\n",
    "    print(m)\n",
    "    res = m.group('sname')\n",
    "    res += ', '\n",
    "    res += m.group('name')[0] + \".\"\n",
    "    if m.group('mname'):\n",
    "        res += \" \" + m.group('mname')[0] + \".\"\n",
    "    return res\n",
    "\n",
    "print(re.sub(\"^(?P<name>[a-z]+) (?P<mname>[a-z]+ )?(?P<sname>[a-z]+)$\",\n",
    "            convert, \"onur tolga sehitoglu\")) "
   ]
  },
  {
   "cell_type": "code",
   "execution_count": 10,
   "metadata": {},
   "outputs": [
    {
     "ename": "TypeError",
     "evalue": "sequence item 0: expected str instance, list found",
     "output_type": "error",
     "traceback": [
      "\u001b[0;31m---------------------------------------------------------------------------\u001b[0m",
      "\u001b[0;31mTypeError\u001b[0m                                 Traceback (most recent call last)",
      "\u001b[0;32m<ipython-input-10-9656d1683caf>\u001b[0m in \u001b[0;36m<module>\u001b[0;34m\u001b[0m\n\u001b[1;32m      8\u001b[0m     \u001b[0;32mreturn\u001b[0m \u001b[0mret\u001b[0m\u001b[0;34m\u001b[0m\u001b[0;34m\u001b[0m\u001b[0m\n\u001b[1;32m      9\u001b[0m \u001b[0;34m\u001b[0m\u001b[0m\n\u001b[0;32m---> 10\u001b[0;31m \u001b[0mipre\u001b[0m\u001b[0;34m.\u001b[0m\u001b[0msub\u001b[0m\u001b[0;34m(\u001b[0m\u001b[0mtolist\u001b[0m\u001b[0;34m,\u001b[0m\u001b[0;34m\"144.122.71.1\"\u001b[0m\u001b[0;34m)\u001b[0m\u001b[0;34m\u001b[0m\u001b[0;34m\u001b[0m\u001b[0m\n\u001b[0m",
      "\u001b[0;31mTypeError\u001b[0m: sequence item 0: expected str instance, list found"
     ]
    }
   ],
   "source": [
    "ipmatch='([0-9]|[1-9][0-9]|1[0-9]{2,2}|2[0-4][0-9]|25[0-5])\\\\.([0-9]|[1-9][0-9]|1[0-9]{2,2}|2[0-4][0-9]|25[0-5])\\\\.([0-9]|[1-9][0-9]|1[0-9]{2,2}|2[0-4][0-9]|25[0-5])\\\\.([0-9]|[1-9][0-9]|1[0-9]{2,2}|2[0-4][0-9]|25[0-5])$'\n",
    "ipre = re.compile(ipmatch)\n",
    "\n",
    "def incrementparts(m):\n",
    "    ret = \"\"\n",
    "    for v in m.groups():\n",
    "        ret += str(int(v)+1) + \".\"\n",
    "    return ret\n",
    "\n",
    "ipre.sub(incrementparts,\"144.122.71.1\")"
   ]
  },
  {
   "cell_type": "markdown",
   "metadata": {},
   "source": [
    "# Input sanitization/validation\n",
    "\n",
    "* Validate all user input\n",
    "* validate as early as possible\n",
    "* Validate in all interfaces, revalidate as necessary\n"
   ]
  },
  {
   "cell_type": "code",
   "execution_count": 14,
   "metadata": {},
   "outputs": [
    {
     "name": "stdout",
     "output_type": "stream",
     "text": [
      "onur@com.tr\n",
      "<re.Match object; span=(0, 11), match='onur@com.tr'>\n"
     ]
    }
   ],
   "source": [
    "emailexp=\"^([a-zA-Z._0-9]+)@([a-z_0-9]+\\.)+([a-z_0-9]+)$\"\n",
    "emailvalidator=re.compile(emailexp)\n",
    "\n",
    "email=input()\n",
    "print(emailvalidator.match(email))\n"
   ]
  },
  {
   "cell_type": "code",
   "execution_count": 3,
   "metadata": {},
   "outputs": [
    {
     "name": "stdout",
     "output_type": "stream",
     "text": [
      "144.122.104.11\n",
      "<_sre.SRE_Match object; span=(0, 14), match='144.122.104.11'>\n"
     ]
    }
   ],
   "source": [
    "ipc=\"([0-9]|[1-9][0-9]|1[0-9][0-9]|2[0-4][0-9]|25[0-5])\"\n",
    "ipvalidator=re.compile('^(' + ipc + '\\.){3}' + ipc +'$')\n",
    "ip=input()\n",
    "print(ipvalidator.match(ip))"
   ]
  },
  {
   "cell_type": "code",
   "execution_count": null,
   "metadata": {},
   "outputs": [],
   "source": []
  }
 ],
 "metadata": {
  "kernelspec": {
   "display_name": "Python 3",
   "language": "python",
   "name": "python3"
  },
  "language_info": {
   "codemirror_mode": {
    "name": "ipython",
    "version": 3
   },
   "file_extension": ".py",
   "mimetype": "text/x-python",
   "name": "python",
   "nbconvert_exporter": "python",
   "pygments_lexer": "ipython3",
   "version": "3.8.10"
  },
  "toc": {
   "nav_menu": {},
   "number_sections": true,
   "sideBar": true,
   "skip_h1_title": false,
   "toc_cell": false,
   "toc_position": {},
   "toc_section_display": "block",
   "toc_window_display": false
  }
 },
 "nbformat": 4,
 "nbformat_minor": 2
}
